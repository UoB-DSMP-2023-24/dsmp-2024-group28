{
 "cells": [
  {
   "cell_type": "code",
   "execution_count": 4,
   "id": "977e0ad4",
   "metadata": {},
   "outputs": [],
   "source": [
    "import pandas as pd\n",
    "import datetime\n",
    "import re"
   ]
  },
  {
   "cell_type": "code",
   "execution_count": 3,
   "id": "812d0569",
   "metadata": {},
   "outputs": [],
   "source": [
    "df = pd.read_csv('fake_transactional_data_24.csv')"
   ]
  },
  {
   "cell_type": "code",
   "execution_count": 3,
   "id": "b7cfff3a",
   "metadata": {},
   "outputs": [
    {
     "data": {
      "text/plain": [
       "10148280"
      ]
     },
     "execution_count": 3,
     "metadata": {},
     "output_type": "execute_result"
    }
   ],
   "source": [
    "len(df)"
   ]
  },
  {
   "cell_type": "code",
   "execution_count": 4,
   "id": "3118a5ac",
   "metadata": {},
   "outputs": [
    {
     "data": {
      "text/html": [
       "<div>\n",
       "<style scoped>\n",
       "    .dataframe tbody tr th:only-of-type {\n",
       "        vertical-align: middle;\n",
       "    }\n",
       "\n",
       "    .dataframe tbody tr th {\n",
       "        vertical-align: top;\n",
       "    }\n",
       "\n",
       "    .dataframe thead th {\n",
       "        text-align: right;\n",
       "    }\n",
       "</style>\n",
       "<table border=\"1\" class=\"dataframe\">\n",
       "  <thead>\n",
       "    <tr style=\"text-align: right;\">\n",
       "      <th></th>\n",
       "      <th>from_totally_fake_account</th>\n",
       "      <th>monopoly_money_amount</th>\n",
       "      <th>to_randomly_generated_account</th>\n",
       "      <th>not_happened_yet_date</th>\n",
       "    </tr>\n",
       "  </thead>\n",
       "  <tbody>\n",
       "    <tr>\n",
       "      <th>0</th>\n",
       "      <td>10371.0</td>\n",
       "      <td>4.00</td>\n",
       "      <td>CINEMA</td>\n",
       "      <td>01/01/2025</td>\n",
       "    </tr>\n",
       "    <tr>\n",
       "      <th>1</th>\n",
       "      <td>88339.0</td>\n",
       "      <td>2.40</td>\n",
       "      <td>40544</td>\n",
       "      <td>01/01/2025</td>\n",
       "    </tr>\n",
       "    <tr>\n",
       "      <th>2</th>\n",
       "      <td>18555.0</td>\n",
       "      <td>2.40</td>\n",
       "      <td>85149</td>\n",
       "      <td>01/01/2025</td>\n",
       "    </tr>\n",
       "    <tr>\n",
       "      <th>3</th>\n",
       "      <td>18555.0</td>\n",
       "      <td>4.10</td>\n",
       "      <td>HIPSTER_COFFEE_SHOP</td>\n",
       "      <td>01/01/2025</td>\n",
       "    </tr>\n",
       "    <tr>\n",
       "      <th>4</th>\n",
       "      <td>80792.0</td>\n",
       "      <td>1.95</td>\n",
       "      <td>18555</td>\n",
       "      <td>01/01/2025</td>\n",
       "    </tr>\n",
       "  </tbody>\n",
       "</table>\n",
       "</div>"
      ],
      "text/plain": [
       "   from_totally_fake_account  monopoly_money_amount  \\\n",
       "0                    10371.0                   4.00   \n",
       "1                    88339.0                   2.40   \n",
       "2                    18555.0                   2.40   \n",
       "3                    18555.0                   4.10   \n",
       "4                    80792.0                   1.95   \n",
       "\n",
       "  to_randomly_generated_account not_happened_yet_date  \n",
       "0                        CINEMA            01/01/2025  \n",
       "1                         40544            01/01/2025  \n",
       "2                         85149            01/01/2025  \n",
       "3           HIPSTER_COFFEE_SHOP            01/01/2025  \n",
       "4                         18555            01/01/2025  "
      ]
     },
     "execution_count": 4,
     "metadata": {},
     "output_type": "execute_result"
    }
   ],
   "source": [
    "df.head()"
   ]
  },
  {
   "cell_type": "code",
   "execution_count": 5,
   "id": "752120e1",
   "metadata": {},
   "outputs": [
    {
     "data": {
      "text/plain": [
       "from_totally_fake_account        float64\n",
       "monopoly_money_amount            float64\n",
       "to_randomly_generated_account     object\n",
       "not_happened_yet_date             object\n",
       "dtype: object"
      ]
     },
     "execution_count": 5,
     "metadata": {},
     "output_type": "execute_result"
    }
   ],
   "source": [
    "df.dtypes"
   ]
  },
  {
   "cell_type": "code",
   "execution_count": 6,
   "id": "a000a008",
   "metadata": {},
   "outputs": [
    {
     "data": {
      "text/plain": [
       "from_totally_fake_account        False\n",
       "monopoly_money_amount            False\n",
       "to_randomly_generated_account    False\n",
       "not_happened_yet_date            False\n",
       "dtype: bool"
      ]
     },
     "execution_count": 6,
     "metadata": {},
     "output_type": "execute_result"
    }
   ],
   "source": [
    "# check missing values\n",
    "df.isnull().any(axis=0)"
   ]
  },
  {
   "cell_type": "code",
   "execution_count": 20,
   "id": "e9c0e15f",
   "metadata": {},
   "outputs": [
    {
     "data": {
      "text/html": [
       "<div>\n",
       "<style scoped>\n",
       "    .dataframe tbody tr th:only-of-type {\n",
       "        vertical-align: middle;\n",
       "    }\n",
       "\n",
       "    .dataframe tbody tr th {\n",
       "        vertical-align: top;\n",
       "    }\n",
       "\n",
       "    .dataframe thead th {\n",
       "        text-align: right;\n",
       "    }\n",
       "</style>\n",
       "<table border=\"1\" class=\"dataframe\">\n",
       "  <thead>\n",
       "    <tr style=\"text-align: right;\">\n",
       "      <th></th>\n",
       "      <th>from_totally_fake_account</th>\n",
       "      <th>monopoly_money_amount</th>\n",
       "      <th>to_randomly_generated_account</th>\n",
       "      <th>not_happened_yet_date</th>\n",
       "    </tr>\n",
       "  </thead>\n",
       "  <tbody>\n",
       "    <tr>\n",
       "      <th>7485526</th>\n",
       "      <td>1000.0</td>\n",
       "      <td>2.25</td>\n",
       "      <td>PRETENTIOUS_COFFEE_SHOP</td>\n",
       "      <td>28/09/2025</td>\n",
       "    </tr>\n",
       "    <tr>\n",
       "      <th>5977038</th>\n",
       "      <td>1000.0</td>\n",
       "      <td>18.00</td>\n",
       "      <td>WINE_BAR</td>\n",
       "      <td>03/08/2025</td>\n",
       "    </tr>\n",
       "    <tr>\n",
       "      <th>8456907</th>\n",
       "      <td>1000.0</td>\n",
       "      <td>6.50</td>\n",
       "      <td>5403</td>\n",
       "      <td>02/11/2025</td>\n",
       "    </tr>\n",
       "    <tr>\n",
       "      <th>5976980</th>\n",
       "      <td>1000.0</td>\n",
       "      <td>7.00</td>\n",
       "      <td>DVD_SHOP</td>\n",
       "      <td>03/08/2025</td>\n",
       "    </tr>\n",
       "    <tr>\n",
       "      <th>5976950</th>\n",
       "      <td>1000.0</td>\n",
       "      <td>6.00</td>\n",
       "      <td>5403</td>\n",
       "      <td>03/08/2025</td>\n",
       "    </tr>\n",
       "  </tbody>\n",
       "</table>\n",
       "</div>"
      ],
      "text/plain": [
       "         from_totally_fake_account  monopoly_money_amount  \\\n",
       "7485526                     1000.0                   2.25   \n",
       "5977038                     1000.0                  18.00   \n",
       "8456907                     1000.0                   6.50   \n",
       "5976980                     1000.0                   7.00   \n",
       "5976950                     1000.0                   6.00   \n",
       "\n",
       "        to_randomly_generated_account not_happened_yet_date  \n",
       "7485526       PRETENTIOUS_COFFEE_SHOP            28/09/2025  \n",
       "5977038                      WINE_BAR            03/08/2025  \n",
       "8456907                          5403            02/11/2025  \n",
       "5976980                      DVD_SHOP            03/08/2025  \n",
       "5976950                          5403            03/08/2025  "
      ]
     },
     "execution_count": 20,
     "metadata": {},
     "output_type": "execute_result"
    }
   ],
   "source": [
    "sorted_df = df.sort_values(by='from_totally_fake_account')\n",
    "sorted_df.head()"
   ]
  },
  {
   "cell_type": "code",
   "execution_count": 9,
   "id": "837b0c43",
   "metadata": {},
   "outputs": [
    {
     "data": {
      "text/plain": [
       "7485526   2025-09-28\n",
       "5977038   2025-08-03\n",
       "8456907   2025-11-02\n",
       "5976980   2025-08-03\n",
       "5976950   2025-08-03\n",
       "Name: not_happened_yet_date, dtype: datetime64[ns]"
      ]
     },
     "execution_count": 9,
     "metadata": {},
     "output_type": "execute_result"
    }
   ],
   "source": [
    "sorted_df['not_happened_yet_date'] = pd.to_datetime(sorted_df['not_happened_yet_date'], format='%d/%m/%Y')\n",
    "sorted_df['not_happened_yet_date'].head()"
   ]
  },
  {
   "cell_type": "code",
   "execution_count": 10,
   "id": "f6790452",
   "metadata": {},
   "outputs": [
    {
     "data": {
      "text/plain": [
       "10148280"
      ]
     },
     "execution_count": 10,
     "metadata": {},
     "output_type": "execute_result"
    }
   ],
   "source": [
    "len(sorted_df)"
   ]
  },
  {
   "cell_type": "code",
   "execution_count": 11,
   "id": "ed941c09",
   "metadata": {},
   "outputs": [
    {
     "data": {
      "text/plain": [
       "8142"
      ]
     },
     "execution_count": 11,
     "metadata": {},
     "output_type": "execute_result"
    }
   ],
   "source": [
    "payers_list = sorted_df[\"from_totally_fake_account\"].unique()\n",
    "len(payers_list)"
   ]
  },
  {
   "cell_type": "code",
   "execution_count": 41,
   "id": "0277ee84",
   "metadata": {},
   "outputs": [],
   "source": [
    "new_df = pd.DataFrame() \n",
    "\n",
    "for payer in payers_list:\n",
    "    payer_df = sorted_df[sorted_df.from_totally_fake_account == payer].sort_values(by='not_happened_yet_date')\n",
    "    new_df = pd.concat([new_df, payer_df], ignore_index=True)"
   ]
  },
  {
   "cell_type": "code",
   "execution_count": 51,
   "id": "f2f82d6b",
   "metadata": {},
   "outputs": [
    {
     "data": {
      "text/plain": [
       "10148280"
      ]
     },
     "execution_count": 51,
     "metadata": {},
     "output_type": "execute_result"
    }
   ],
   "source": [
    "len(new_df)"
   ]
  },
  {
   "cell_type": "code",
   "execution_count": 50,
   "id": "12063901",
   "metadata": {},
   "outputs": [],
   "source": [
    "new_df.to_csv(\"data_sorted_users_and_date.csv\", index=False)"
   ]
  },
  {
   "cell_type": "code",
   "execution_count": 12,
   "id": "9c5165e0",
   "metadata": {},
   "outputs": [
    {
     "data": {
      "text/plain": [
       "array(['CINEMA', '40544', '85149', ..., '24636', '1243', 'TURKEY_FARM'],\n",
       "      dtype=object)"
      ]
     },
     "execution_count": 12,
     "metadata": {},
     "output_type": "execute_result"
    }
   ],
   "source": [
    "accounts = df['to_randomly_generated_account'].unique()\n",
    "accounts"
   ]
  },
  {
   "cell_type": "code",
   "execution_count": 13,
   "id": "a69ab846",
   "metadata": {},
   "outputs": [
    {
     "data": {
      "text/plain": [
       "14300"
      ]
     },
     "execution_count": 13,
     "metadata": {},
     "output_type": "execute_result"
    }
   ],
   "source": [
    "len(accounts)"
   ]
  },
  {
   "cell_type": "code",
   "execution_count": 14,
   "id": "9a9dd3a0",
   "metadata": {},
   "outputs": [
    {
     "data": {
      "text/plain": [
       "79"
      ]
     },
     "execution_count": 14,
     "metadata": {},
     "output_type": "execute_result"
    }
   ],
   "source": [
    "shops_account = [a for a in accounts if not a.isdigit()]\n",
    "len(shops_account)"
   ]
  },
  {
   "cell_type": "code",
   "execution_count": 15,
   "id": "a84a1f63",
   "metadata": {},
   "outputs": [
    {
     "data": {
      "text/plain": [
       "['CINEMA',\n",
       " 'HIPSTER_COFFEE_SHOP',\n",
       " 'TOTALLY_A_REAL_COFFEE_SHOP',\n",
       " 'COFFEE_SHOP',\n",
       " 'CAFE',\n",
       " 'A_CAFE',\n",
       " 'LOCAL_RESTAURANT',\n",
       " 'A_LOCAL_COFFEE_SHOP',\n",
       " 'GOURMET_COFFEE_SHOP',\n",
       " 'LOCAL_WATERING_HOLE',\n",
       " 'SANDWICH_SHOP',\n",
       " 'TOY_SHOP',\n",
       " 'PRETENTIOUS_COFFEE_SHOP',\n",
       " 'BAR',\n",
       " 'PUB',\n",
       " 'COMIC_BOOK_SHOP',\n",
       " 'LUNCH_VAN',\n",
       " 'DEPARTMENT_STORE',\n",
       " 'KEBAB_SHOP',\n",
       " 'WINE_BAR',\n",
       " 'ELECTRONICS_SHOP',\n",
       " 'RESTAURANT',\n",
       " 'LOCAL_PUB',\n",
       " 'LUNCH_PLACE',\n",
       " 'FASHION_SHOP',\n",
       " 'FASHIONABLE_SPORTSWARE_SHOP',\n",
       " 'SCHOOL_SUPPLY_STORE',\n",
       " 'LOCAL_BOOKSHOP',\n",
       " 'TRAINER_SHOP',\n",
       " 'BOOKSHOP',\n",
       " 'KIDS_ACTIVITY_CENTRE',\n",
       " 'VIDEO_GAME_STORE',\n",
       " 'CLOTHES_SHOP',\n",
       " 'TAKEAWAY_CURRY',\n",
       " 'TECH_SHOP',\n",
       " 'NERDY_BOOK_STORE',\n",
       " 'WHISKEY_BAR',\n",
       " 'PET_TOY_SHOP',\n",
       " 'DVD_SHOP',\n",
       " 'CHILDRENDS_SHOP',\n",
       " 'GAME_SHOP',\n",
       " 'INDIAN_RESTAURANT',\n",
       " 'COCKTAIL_BAR',\n",
       " 'RUNNING_SHOP',\n",
       " 'DIY_STORE',\n",
       " 'COOKSHOP',\n",
       " 'HOME_IMPROVEMENT_STORE',\n",
       " 'PET_SHOP',\n",
       " 'CHINESE_TAKEAWAY',\n",
       " 'BUTCHERS',\n",
       " 'SECOND_HAND_BOOKSHOP',\n",
       " 'G&T_BAR',\n",
       " 'GREENGROCER',\n",
       " 'JEWLLERY_SHOP',\n",
       " 'ACCESSORY_SHOP',\n",
       " 'TAKEAWAY',\n",
       " 'KIDS_CLOTHING_SHOP',\n",
       " 'SPORT_SHOP',\n",
       " 'STEAK_HOUSE',\n",
       " 'HIPSTER_ELECTRONICS_SHOP',\n",
       " 'CHINESE_RESTAURANT',\n",
       " 'SEAFOOD_RESAURANT',\n",
       " 'STREAMING_SERVICE',\n",
       " 'GYM',\n",
       " 'WHISKEY_SHOP',\n",
       " 'TEA_SHOP',\n",
       " 'RESTAURANT_VOUCHER',\n",
       " 'ROASTERIE',\n",
       " 'LIQUOR_STORE',\n",
       " 'TO_BEAN_OR_NOT_TO_BEAN',\n",
       " 'WINE_CELLAR',\n",
       " 'WE_HAVE_BEAN_WEIGHTING',\n",
       " 'LARGE_SUPERMARKET',\n",
       " 'EXPRESS_SUPERMARKET',\n",
       " 'BUTCHER',\n",
       " 'A_SUPERMARKET',\n",
       " 'THE_SUPERMARKET',\n",
       " 'FLORIST',\n",
       " 'TURKEY_FARM']"
      ]
     },
     "execution_count": 15,
     "metadata": {},
     "output_type": "execute_result"
    }
   ],
   "source": [
    "shops_account"
   ]
  },
  {
   "cell_type": "code",
   "execution_count": 44,
   "id": "6009b10f",
   "metadata": {},
   "outputs": [],
   "source": [
    "new_df = pd.read_csv('data_sorted_users_and_date.csv')"
   ]
  },
  {
   "cell_type": "code",
   "execution_count": 45,
   "id": "8184e88d",
   "metadata": {},
   "outputs": [],
   "source": [
    "def add_label(to_account):\n",
    "    coffee_words = ['COFFEE', 'CAFE', 'BEAN', 'ROASTERIE']\n",
    "    bar_words = ['WATERING', 'BAR', 'PUB','LIQUOR','WINE']\n",
    "    restaurant_words = ['RESTAURANT', 'SANDWICH', 'LUNCH', 'KEBAB','COOKSHOP','STEAK', 'SEAFOOD']\n",
    "    entertainment_words = ['CINEMA', 'STREAMING', 'TOY', 'DIY']\n",
    "    clothes_words = ['FASHION', 'CLOTHES','TRAINER', 'CLOTHING']\n",
    "    electronics_words = ['ELECTRONICS','TECH', 'DVD', 'GAME']\n",
    "    sport_words = ['GYM', 'RUNNING', 'SPORT', 'SPORTSWARE']\n",
    "    \n",
    "    if re.search(r\"TEA\", to_account):\n",
    "        return \"tea\"\n",
    "    \n",
    "    if re.search(r\"ACCESSORY|JEWLLERY\", to_account):\n",
    "        return \"accessory\"\n",
    "    \n",
    "    if re.search(r\"BUTCHER|TURKEY\", to_account):\n",
    "        return \"butcher\"\n",
    "    \n",
    "    if re.search(r\"PET\", to_account):\n",
    "        return \"pet\"\n",
    "    \n",
    "    if re.search(r\"BOOK\", to_account):\n",
    "        return \"book\"\n",
    "    \n",
    "    if re.search(r\"DEPARTMENT|SUPERMARKET\", to_account):\n",
    "        return \"supermarket\"\n",
    "    \n",
    "    if re.search(r\"FLORIST\", to_account):\n",
    "        return \"flower\"\n",
    "    \n",
    "    if re.search(r\"TAKEAWAY\", to_account):\n",
    "        return \"takeaway\"\n",
    "    \n",
    "    if re.search(r\"GREENGROCER\", to_account):\n",
    "        return \"greengrocer\"\n",
    "    \n",
    "    if re.search(r\"HOME\", to_account):\n",
    "        return \"home store\"\n",
    "    \n",
    "    for word in coffee_words:\n",
    "        if word in to_account:\n",
    "            return \"cafe\"\n",
    "            \n",
    "    for word in bar_words:\n",
    "        if word in to_account:\n",
    "            return \"bar\"\n",
    "    \n",
    "    for word in restaurant_words:\n",
    "        if word in to_account:\n",
    "            return \"restaurant\"\n",
    "        \n",
    "    for word in sport_words:\n",
    "        if word in to_account:\n",
    "            return \"sport\"\n",
    "    \n",
    "    for word in entertainment_words:\n",
    "        if word in to_account:\n",
    "            return \"entertainment\"\n",
    "    \n",
    "    for word in electronics_words:\n",
    "        if word in to_account:\n",
    "            return \"electronics\"\n",
    "    \n",
    "    for word in clothes_words:\n",
    "        if word in to_account:\n",
    "            return \"clothes\"\n",
    "    \n",
    "    if re.search(r\"CHILDREND|KID|SCHOOL\", to_account):\n",
    "        return \"children\"  \n",
    "    \n",
    "    if re.search(r\"LIQUOR|CELLAR|WHISKEY\", to_account):\n",
    "        return \"alcohol\"\n",
    "    \n",
    "classification_df = new_df.copy()\n",
    "classification_df = classification_df[~classification_df['to_randomly_generated_account'].str.isdigit()]\n",
    "classification_df['category'] = classification_df['to_randomly_generated_account'].apply(add_label)       "
   ]
  },
  {
   "cell_type": "code",
   "execution_count": 46,
   "id": "fd1292ad",
   "metadata": {},
   "outputs": [],
   "source": [
    "classification_df.to_csv(\"data_with_customer_behavior.csv\", index=False)"
   ]
  },
  {
   "cell_type": "code",
   "execution_count": 47,
   "id": "f7af6801",
   "metadata": {},
   "outputs": [],
   "source": [
    "classification_df = pd.read_csv('data_with_customer_behavior.csv')"
   ]
  },
  {
   "cell_type": "code",
   "execution_count": 49,
   "id": "1d02cf53",
   "metadata": {},
   "outputs": [
    {
     "name": "stdout",
     "output_type": "stream",
     "text": [
      "Number of accounts about entertainment: 4\n",
      "Number of accounts about cafe: 11\n",
      "Number of accounts about bar: 10\n",
      "Number of accounts about restaurant: 11\n",
      "Number of accounts about electronics: 6\n",
      "Number of accounts about pet: 2\n",
      "Number of accounts about takeaway: 3\n",
      "Number of accounts about clothes: 4\n",
      "Number of accounts about supermarket: 5\n",
      "Number of accounts about children: 3\n",
      "Number of accounts about book: 5\n",
      "Number of accounts about tea: 2\n",
      "Number of accounts about alcohol: 1\n",
      "Number of accounts about sport: 4\n",
      "Number of accounts about butcher: 3\n",
      "Number of accounts about greengrocer: 1\n",
      "Number of accounts about home store: 1\n",
      "Number of accounts about flower: 1\n",
      "Number of accounts about accessory: 2\n"
     ]
    }
   ],
   "source": [
    "a = classification_df.drop_duplicates(subset=['to_randomly_generated_account'])\n",
    "category = classification_df['category'].unique()\n",
    "\n",
    "def count_class(data, cat):\n",
    "    num = len(data[data['category'] == cat])\n",
    "    print(f\"Number of accounts about {cat}: {num}\")\n",
    "\n",
    "for cat in category:\n",
    "    count_class(a, cat)"
   ]
  },
  {
   "cell_type": "code",
   "execution_count": 50,
   "id": "7dc27e7b",
   "metadata": {
    "scrolled": true
   },
   "outputs": [
    {
     "data": {
      "text/html": [
       "<div>\n",
       "<style scoped>\n",
       "    .dataframe tbody tr th:only-of-type {\n",
       "        vertical-align: middle;\n",
       "    }\n",
       "\n",
       "    .dataframe tbody tr th {\n",
       "        vertical-align: top;\n",
       "    }\n",
       "\n",
       "    .dataframe thead th {\n",
       "        text-align: right;\n",
       "    }\n",
       "</style>\n",
       "<table border=\"1\" class=\"dataframe\">\n",
       "  <thead>\n",
       "    <tr style=\"text-align: right;\">\n",
       "      <th></th>\n",
       "      <th>to_randomly_generated_account</th>\n",
       "      <th>month</th>\n",
       "      <th>total_monthly_income</th>\n",
       "      <th>category</th>\n",
       "    </tr>\n",
       "  </thead>\n",
       "  <tbody>\n",
       "    <tr>\n",
       "      <th>0</th>\n",
       "      <td>ACCESSORY_SHOP</td>\n",
       "      <td>1</td>\n",
       "      <td>6238.00</td>\n",
       "      <td>accessory</td>\n",
       "    </tr>\n",
       "    <tr>\n",
       "      <th>1</th>\n",
       "      <td>ACCESSORY_SHOP</td>\n",
       "      <td>2</td>\n",
       "      <td>6213.00</td>\n",
       "      <td>accessory</td>\n",
       "    </tr>\n",
       "    <tr>\n",
       "      <th>2</th>\n",
       "      <td>ACCESSORY_SHOP</td>\n",
       "      <td>3</td>\n",
       "      <td>6545.00</td>\n",
       "      <td>accessory</td>\n",
       "    </tr>\n",
       "    <tr>\n",
       "      <th>3</th>\n",
       "      <td>ACCESSORY_SHOP</td>\n",
       "      <td>4</td>\n",
       "      <td>5867.00</td>\n",
       "      <td>accessory</td>\n",
       "    </tr>\n",
       "    <tr>\n",
       "      <th>4</th>\n",
       "      <td>ACCESSORY_SHOP</td>\n",
       "      <td>5</td>\n",
       "      <td>6447.00</td>\n",
       "      <td>accessory</td>\n",
       "    </tr>\n",
       "    <tr>\n",
       "      <th>...</th>\n",
       "      <td>...</td>\n",
       "      <td>...</td>\n",
       "      <td>...</td>\n",
       "      <td>...</td>\n",
       "    </tr>\n",
       "    <tr>\n",
       "      <th>921</th>\n",
       "      <td>WINE_CELLAR</td>\n",
       "      <td>8</td>\n",
       "      <td>8590.82</td>\n",
       "      <td>bar</td>\n",
       "    </tr>\n",
       "    <tr>\n",
       "      <th>922</th>\n",
       "      <td>WINE_CELLAR</td>\n",
       "      <td>9</td>\n",
       "      <td>9602.72</td>\n",
       "      <td>bar</td>\n",
       "    </tr>\n",
       "    <tr>\n",
       "      <th>923</th>\n",
       "      <td>WINE_CELLAR</td>\n",
       "      <td>10</td>\n",
       "      <td>9572.62</td>\n",
       "      <td>bar</td>\n",
       "    </tr>\n",
       "    <tr>\n",
       "      <th>924</th>\n",
       "      <td>WINE_CELLAR</td>\n",
       "      <td>11</td>\n",
       "      <td>9717.53</td>\n",
       "      <td>bar</td>\n",
       "    </tr>\n",
       "    <tr>\n",
       "      <th>925</th>\n",
       "      <td>WINE_CELLAR</td>\n",
       "      <td>12</td>\n",
       "      <td>126309.76</td>\n",
       "      <td>bar</td>\n",
       "    </tr>\n",
       "  </tbody>\n",
       "</table>\n",
       "<p>926 rows × 4 columns</p>\n",
       "</div>"
      ],
      "text/plain": [
       "    to_randomly_generated_account  month  total_monthly_income   category\n",
       "0                  ACCESSORY_SHOP      1               6238.00  accessory\n",
       "1                  ACCESSORY_SHOP      2               6213.00  accessory\n",
       "2                  ACCESSORY_SHOP      3               6545.00  accessory\n",
       "3                  ACCESSORY_SHOP      4               5867.00  accessory\n",
       "4                  ACCESSORY_SHOP      5               6447.00  accessory\n",
       "..                            ...    ...                   ...        ...\n",
       "921                   WINE_CELLAR      8               8590.82        bar\n",
       "922                   WINE_CELLAR      9               9602.72        bar\n",
       "923                   WINE_CELLAR     10               9572.62        bar\n",
       "924                   WINE_CELLAR     11               9717.53        bar\n",
       "925                   WINE_CELLAR     12             126309.76        bar\n",
       "\n",
       "[926 rows x 4 columns]"
      ]
     },
     "execution_count": 50,
     "metadata": {},
     "output_type": "execute_result"
    }
   ],
   "source": [
    "new_a = a[['to_randomly_generated_account','category']]\n",
    "filtered_a = new_a[~new_a['to_randomly_generated_account'].str.isnumeric()]\n",
    "\n",
    "income_df = pd.read_csv('monthly_incomes.csv')\n",
    "income_with_label_df = pd.merge(income_df, filtered_a)\n",
    "income_with_label_df"
   ]
  },
  {
   "cell_type": "code",
   "execution_count": 51,
   "id": "3e23569c",
   "metadata": {},
   "outputs": [],
   "source": [
    "income_with_label_df.to_csv(\"monthly_incomes_with_label.csv\", index=False)"
   ]
  },
  {
   "cell_type": "code",
   "execution_count": 52,
   "id": "e3cde6b0",
   "metadata": {},
   "outputs": [],
   "source": [
    "high_payment_df = pd.read_csv('high_payment_records.csv')\n",
    "high_payment_with_label_df = pd.merge(high_payment_df, filtered_a, how='left')\n",
    "high_payment_with_label_df.to_csv(\"high_payment_records_with_label.csv\", index=False)"
   ]
  },
  {
   "cell_type": "code",
   "execution_count": 53,
   "id": "8a9ff6aa",
   "metadata": {},
   "outputs": [],
   "source": [
    "high_reciept_df = pd.read_csv('high_reciept_records.csv')\n",
    "high_reciept_with_label_df = pd.merge(high_reciept_df, filtered_a, how='left')\n",
    "high_reciept_with_label_df.to_csv(\"high_reciept_records_with_label.csv\", index=False)"
   ]
  },
  {
   "cell_type": "code",
   "execution_count": null,
   "id": "b917fc26",
   "metadata": {},
   "outputs": [],
   "source": []
  }
 ],
 "metadata": {
  "kernelspec": {
   "display_name": "Python 3 (ipykernel)",
   "language": "python",
   "name": "python3"
  },
  "language_info": {
   "codemirror_mode": {
    "name": "ipython",
    "version": 3
   },
   "file_extension": ".py",
   "mimetype": "text/x-python",
   "name": "python",
   "nbconvert_exporter": "python",
   "pygments_lexer": "ipython3",
   "version": "3.11.4"
  }
 },
 "nbformat": 4,
 "nbformat_minor": 5
}
