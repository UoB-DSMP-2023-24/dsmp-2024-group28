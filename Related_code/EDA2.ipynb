{
 "cells": [
  {
   "cell_type": "code",
   "execution_count": 49,
   "metadata": {
    "collapsed": true,
    "jupyter": {
     "outputs_hidden": true
    }
   },
   "outputs": [
    {
     "name": "stdout",
     "output_type": "stream",
     "text": [
      "User: 8142\n",
      "Merchants: 14300\n"
     ]
    }
   ],
   "source": [
    "import pandas as pd\n",
    "\n",
    "# Read the CSV file\n",
    "df = pd.read_csv('C:\\\\Users\\\\37424\\\\Desktop\\\\fake_transactional_data_24.csv')\n",
    "unique_users = df['from_totally_fake_account'].nunique()\n",
    "unique_merchants = df['to_randomly_generated_account'].nunique()\n",
    "print(f'User: {unique_users}')\n",
    "print(f'Merchants: {unique_merchants}')"
   ]
  },
  {
   "cell_type": "code",
   "execution_count": 50,
   "metadata": {
    "collapsed": false,
    "jupyter": {
     "outputs_hidden": false
    }
   },
   "outputs": [],
   "source": [
    "df['not_happened_yet_date'] = pd.to_datetime(df['not_happened_yet_date'], format='%d/%m/%Y')"
   ]
  },
  {
   "cell_type": "code",
   "execution_count": 51,
   "metadata": {
    "collapsed": false,
    "jupyter": {
     "outputs_hidden": false
    }
   },
   "outputs": [
    {
     "name": "stdout",
     "output_type": "stream",
     "text": [
      "7615517\n",
      "Merchants: 79\n"
     ]
    }
   ],
   "source": [
    "columns = list(df.columns)\n",
    "columns.remove('to_randomly_generated_account')\n",
    "new_columns_order = ['to_randomly_generated_account'] + columns\n",
    "df = df[new_columns_order]\n",
    "df_filtered = df[~df['to_randomly_generated_account'].str.isdigit()]\n",
    "# print(df_filtered.head(1000).to_string(index=False))\n",
    "grouped = df_filtered.groupby('to_randomly_generated_account')\n",
    "sorted_merchants = [group.sort_values('not_happened_yet_date') for _, group in grouped]\n",
    "sorted_df = pd.concat(sorted_merchants)\n",
    "aa = sorted_df['from_totally_fake_account'].count()\n",
    "print(aa)\n",
    "unique_merchants = sorted_df['to_randomly_generated_account'].nunique()\n",
    "print(f'Merchants: {unique_merchants}')"
   ]
  }
 ],
 "metadata": {
  "kernelspec": {
   "display_name": "Python 3 (ipykernel)",
   "language": "python",
   "name": "python3"
  },
  "language_info": {
   "codemirror_mode": {
    "name": "ipython",
    "version": 3
   },
   "file_extension": ".py",
   "mimetype": "text/x-python",
   "name": "python",
   "nbconvert_exporter": "python",
   "pygments_lexer": "ipython3",
   "version": "3.9.13"
  }
 },
 "nbformat": 4,
 "nbformat_minor": 4
}
