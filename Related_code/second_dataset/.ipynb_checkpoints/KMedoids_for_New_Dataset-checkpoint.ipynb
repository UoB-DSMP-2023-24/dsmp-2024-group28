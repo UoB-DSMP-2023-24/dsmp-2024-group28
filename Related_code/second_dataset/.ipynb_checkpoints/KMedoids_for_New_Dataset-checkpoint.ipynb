{
 "cells": [
  {
   "cell_type": "code",
   "execution_count": 2,
   "metadata": {},
   "outputs": [],
   "source": [
    "import pandas as pd\n",
    "import numpy as np\n",
    "from sklearn.preprocessing import StandardScaler\n",
    "from mpl_toolkits.mplot3d import Axes3D\n",
    "import matplotlib.pyplot as plt\n",
    "import numpy as np\n",
    "\n",
    "# Read the CSV file\n",
    "grouped2 = pd.read_csv('New_dataset_Merchant_corresponding_incomes.csv')\n"
   ]
  },
  {
   "cell_type": "code",
   "execution_count": 3,
   "metadata": {},
   "outputs": [],
   "source": [
    "grouped2['Datetime'] = pd.to_datetime(grouped2['Datetime'])\n",
    "current_date = grouped2['Datetime'].max()\n",
    "\n",
    "rfm = grouped2.groupby(['Third Party Name', 'Account No']).agg({\n",
    "    'Datetime': lambda x: (current_date - x.max()).days,  # Recency\n",
    "    'Account No': 'count',                                        # Frequency\n",
    "    'Amount': lambda x: -x.sum()                                    # Monetary\n",
    "}).rename(columns={\n",
    "    'Datetime': 'recency',\n",
    "    'Account No': 'frequency',\n",
    "    'Amount': 'monetary'\n",
    "}).reset_index()\n"
   ]
  },
  {
   "cell_type": "code",
   "execution_count": 10,
   "metadata": {},
   "outputs": [
    {
     "name": "stdout",
     "output_type": "stream",
     "text": [
      "Processing account: a yarn story\n",
      "Merchant a yarn story optimal k value is: 2\n",
      "Processing account: amazon\n",
      "Merchant amazon optimal k value is: 3\n",
      "Processing account: blackwell's\n",
      "Merchant blackwell's optimal k value is: 3\n",
      "Processing account: blizzard\n",
      "Merchant blizzard optimal k value is: 5\n",
      "Processing account: boots\n",
      "Merchant boots optimal k value is: 3\n",
      "Processing account: brilliant brushes\n",
      "Merchant brilliant brushes optimal k value is: 3\n",
      "Processing account: cass art\n"
     ]
    },
    {
     "name": "stderr",
     "output_type": "stream",
     "text": [
      "D:\\anaconda3\\Lib\\site-packages\\sklearn_extra\\cluster\\_k_medoids.py:329: UserWarning: Cluster 4 is empty! self.labels_[self.medoid_indices_[4]] may not be labeled with its corresponding cluster (4).\n",
      "  warnings.warn(\n",
      "D:\\anaconda3\\Lib\\site-packages\\sklearn_extra\\cluster\\_k_medoids.py:329: UserWarning: Cluster 4 is empty! self.labels_[self.medoid_indices_[4]] may not be labeled with its corresponding cluster (4).\n",
      "  warnings.warn(\n",
      "D:\\anaconda3\\Lib\\site-packages\\sklearn_extra\\cluster\\_k_medoids.py:329: UserWarning: Cluster 4 is empty! self.labels_[self.medoid_indices_[4]] may not be labeled with its corresponding cluster (4).\n",
      "  warnings.warn(\n",
      "D:\\anaconda3\\Lib\\site-packages\\sklearn_extra\\cluster\\_k_medoids.py:329: UserWarning: Cluster 4 is empty! self.labels_[self.medoid_indices_[4]] may not be labeled with its corresponding cluster (4).\n",
      "  warnings.warn(\n",
      "D:\\anaconda3\\Lib\\site-packages\\sklearn_extra\\cluster\\_k_medoids.py:329: UserWarning: Cluster 4 is empty! self.labels_[self.medoid_indices_[4]] may not be labeled with its corresponding cluster (4).\n",
      "  warnings.warn(\n",
      "D:\\anaconda3\\Lib\\site-packages\\sklearn_extra\\cluster\\_k_medoids.py:329: UserWarning: Cluster 4 is empty! self.labels_[self.medoid_indices_[4]] may not be labeled with its corresponding cluster (4).\n",
      "  warnings.warn(\n",
      "D:\\anaconda3\\Lib\\site-packages\\sklearn_extra\\cluster\\_k_medoids.py:329: UserWarning: Cluster 9 is empty! self.labels_[self.medoid_indices_[9]] may not be labeled with its corresponding cluster (9).\n",
      "  warnings.warn(\n"
     ]
    },
    {
     "name": "stdout",
     "output_type": "stream",
     "text": [
      "Merchant cass art optimal k value is: 2\n",
      "Processing account: cex\n",
      "Merchant cex optimal k value is: 2\n",
      "Processing account: coffee #1\n",
      "Merchant coffee #1 optimal k value is: 4\n",
      "Processing account: collector cave\n",
      "Merchant collector cave optimal k value is: 2\n",
      "Processing account: coop local\n",
      "Merchant coop local optimal k value is: 2\n",
      "Processing account: costa coffee\n",
      "Merchant costa coffee optimal k value is: 2\n",
      "Processing account: craftastic\n",
      "Merchant craftastic optimal k value is: 3\n",
      "Processing account: deliveroo\n",
      "Merchant deliveroo optimal k value is: 2\n",
      "Processing account: disney\n",
      "Merchant disney optimal k value is: 1\n",
      "Processing account: etsy\n",
      "Merchant etsy optimal k value is: 3\n",
      "Processing account: fat face\n"
     ]
    },
    {
     "name": "stderr",
     "output_type": "stream",
     "text": [
      "D:\\anaconda3\\Lib\\site-packages\\sklearn_extra\\cluster\\_k_medoids.py:329: UserWarning: Cluster 1 is empty! self.labels_[self.medoid_indices_[1]] may not be labeled with its corresponding cluster (1).\n",
      "  warnings.warn(\n"
     ]
    },
    {
     "name": "stdout",
     "output_type": "stream",
     "text": [
      "Merchant fat face optimal k value is: 3\n",
      "Processing account: fitted stitch\n",
      "Merchant fitted stitch optimal k value is: 2\n",
      "Processing account: five senses art\n",
      "Merchant five senses art optimal k value is: 3\n",
      "Processing account: foyles\n",
      "Merchant foyles optimal k value is: 2\n",
      "Processing account: gamestation\n",
      "Merchant gamestation optimal k value is: 2\n",
      "Processing account: grand union bjj\n"
     ]
    },
    {
     "name": "stderr",
     "output_type": "stream",
     "text": [
      "D:\\anaconda3\\Lib\\site-packages\\sklearn_extra\\cluster\\_k_medoids.py:329: UserWarning: Cluster 5 is empty! self.labels_[self.medoid_indices_[5]] may not be labeled with its corresponding cluster (5).\n",
      "  warnings.warn(\n",
      "D:\\anaconda3\\Lib\\site-packages\\sklearn_extra\\cluster\\_k_medoids.py:329: UserWarning: Cluster 5 is empty! self.labels_[self.medoid_indices_[5]] may not be labeled with its corresponding cluster (5).\n",
      "  warnings.warn(\n",
      "D:\\anaconda3\\Lib\\site-packages\\sklearn_extra\\cluster\\_k_medoids.py:329: UserWarning: Cluster 5 is empty! self.labels_[self.medoid_indices_[5]] may not be labeled with its corresponding cluster (5).\n",
      "  warnings.warn(\n",
      "D:\\anaconda3\\Lib\\site-packages\\sklearn_extra\\cluster\\_k_medoids.py:329: UserWarning: Cluster 5 is empty! self.labels_[self.medoid_indices_[5]] may not be labeled with its corresponding cluster (5).\n",
      "  warnings.warn(\n",
      "D:\\anaconda3\\Lib\\site-packages\\sklearn_extra\\cluster\\_k_medoids.py:329: UserWarning: Cluster 5 is empty! self.labels_[self.medoid_indices_[5]] may not be labeled with its corresponding cluster (5).\n",
      "  warnings.warn(\n"
     ]
    },
    {
     "name": "stdout",
     "output_type": "stream",
     "text": [
      "Merchant grand union bjj optimal k value is: 10\n",
      "Processing account: halifax\n",
      "Merchant halifax optimal k value is: 5\n",
      "Processing account: hobby lobby\n",
      "Merchant hobby lobby optimal k value is: 3\n",
      "Processing account: hobbycraft\n",
      "Merchant hobbycraft optimal k value is: 2\n",
      "Processing account: jd sports\n",
      "Merchant jd sports optimal k value is: 3\n",
      "Processing account: justeat\n",
      "Merchant justeat optimal k value is: 2\n",
      "Processing account: kew house\n",
      "Merchant kew house optimal k value is: 2\n",
      "Processing account: kings arms\n",
      "Merchant kings arms optimal k value is: 2\n",
      "Processing account: lavender primary\n",
      "Merchant lavender primary optimal k value is: 2\n",
      "Processing account: lbg\n",
      "Merchant lbg optimal k value is: 2\n",
      "Processing account: lloyds pharmacy\n",
      "Merchant lloyds pharmacy optimal k value is: 3\n",
      "Processing account: loosely fitted\n",
      "Merchant loosely fitted optimal k value is: 2\n",
      "Processing account: mamas & papas\n",
      "Merchant mamas & papas optimal k value is: 2\n",
      "Processing account: matalan\n",
      "Merchant matalan optimal k value is: 3\n",
      "Processing account: mojang studios\n",
      "Merchant mojang studios optimal k value is: 2\n",
      "Processing account: netflix\n",
      "Merchant netflix optimal k value is: 1\n",
      "Processing account: puregym\n",
      "Merchant puregym optimal k value is: 1\n",
      "Processing account: reebok\n",
      "Merchant reebok optimal k value is: 2\n",
      "Processing account: revella\n"
     ]
    },
    {
     "name": "stderr",
     "output_type": "stream",
     "text": [
      "D:\\anaconda3\\Lib\\site-packages\\sklearn_extra\\cluster\\_k_medoids.py:329: UserWarning: Cluster 4 is empty! self.labels_[self.medoid_indices_[4]] may not be labeled with its corresponding cluster (4).\n",
      "  warnings.warn(\n",
      "D:\\anaconda3\\Lib\\site-packages\\sklearn_extra\\cluster\\_k_medoids.py:329: UserWarning: Cluster 4 is empty! self.labels_[self.medoid_indices_[4]] may not be labeled with its corresponding cluster (4).\n",
      "  warnings.warn(\n",
      "D:\\anaconda3\\Lib\\site-packages\\sklearn_extra\\cluster\\_k_medoids.py:329: UserWarning: Cluster 4 is empty! self.labels_[self.medoid_indices_[4]] may not be labeled with its corresponding cluster (4).\n",
      "  warnings.warn(\n",
      "D:\\anaconda3\\Lib\\site-packages\\sklearn_extra\\cluster\\_k_medoids.py:329: UserWarning: Cluster 4 is empty! self.labels_[self.medoid_indices_[4]] may not be labeled with its corresponding cluster (4).\n",
      "  warnings.warn(\n",
      "D:\\anaconda3\\Lib\\site-packages\\sklearn_extra\\cluster\\_k_medoids.py:329: UserWarning: Cluster 4 is empty! self.labels_[self.medoid_indices_[4]] may not be labeled with its corresponding cluster (4).\n",
      "  warnings.warn(\n",
      "D:\\anaconda3\\Lib\\site-packages\\sklearn_extra\\cluster\\_k_medoids.py:329: UserWarning: Cluster 4 is empty! self.labels_[self.medoid_indices_[4]] may not be labeled with its corresponding cluster (4).\n",
      "  warnings.warn(\n",
      "D:\\anaconda3\\Lib\\site-packages\\sklearn_extra\\cluster\\_k_medoids.py:329: UserWarning: Cluster 1 is empty! self.labels_[self.medoid_indices_[1]] may not be labeled with its corresponding cluster (1).\n",
      "  warnings.warn(\n",
      "D:\\anaconda3\\Lib\\site-packages\\sklearn_extra\\cluster\\_k_medoids.py:329: UserWarning: Cluster 1 is empty! self.labels_[self.medoid_indices_[1]] may not be labeled with its corresponding cluster (1).\n",
      "  warnings.warn(\n"
     ]
    },
    {
     "name": "stdout",
     "output_type": "stream",
     "text": [
      "Merchant revella optimal k value is: 3\n",
      "Processing account: rose & crown\n",
      "Merchant rose & crown optimal k value is: 3\n",
      "Processing account: sainsbury\n",
      "Merchant sainsbury optimal k value is: 2\n",
      "Processing account: sainsbury local\n",
      "Merchant sainsbury local optimal k value is: 2\n",
      "Processing account: selfridges\n",
      "Merchant selfridges optimal k value is: 2\n",
      "Processing account: sports direct\n",
      "Merchant sports direct optimal k value is: 3\n",
      "Processing account: squareonix\n",
      "Merchant squareonix optimal k value is: 2\n",
      "Processing account: starbucks\n",
      "Merchant starbucks optimal k value is: 4\n",
      "Processing account: stitch by stitch\n",
      "Merchant stitch by stitch optimal k value is: 2\n",
      "Processing account: tesco\n",
      "Merchant tesco optimal k value is: 4\n",
      "Processing account: the crown\n",
      "Merchant the crown optimal k value is: 3\n",
      "Processing account: the works\n",
      "Merchant the works optimal k value is: 3\n",
      "Processing account: topshop\n",
      "Merchant topshop optimal k value is: 3\n",
      "Processing account: wool\n",
      "Merchant wool optimal k value is: 3\n",
      "Processing account: xbox\n",
      "Merchant xbox optimal k value is: 2\n"
     ]
    }
   ],
   "source": [
    "from sklearn.metrics import silhouette_score\n",
    "from sklearn_extra.cluster import KMedoids\n",
    "\n",
    "best_k_list = []\n",
    "best_ks = {}\n",
    "\n",
    "rfm = rfm.groupby('Third Party Name').filter(lambda x: len(x) > 2)\n",
    "\n",
    "#Perform independent clustering analysis on each merchant\n",
    "for account in rfm['Third Party Name'].unique():\n",
    "    print(f\"Processing account: {account}\")\n",
    "\n",
    "#Filter data for specific merchants\n",
    "    account_rfm = rfm[rfm['Third Party Name'] == account]\n",
    "\n",
    "#Data preprocessing - Standardized RFM values\n",
    "    scaler = StandardScaler()\n",
    "    rfm_scaled = scaler.fit_transform(account_rfm[['recency', 'frequency', 'monetary']])\n",
    "    \n",
    "    score = []\n",
    "#Use Elbow Method to find the optimal K value and test K values from 1 to 10\n",
    "    num_samples = len(rfm_scaled)\n",
    "    if num_samples > 10:\n",
    "        n = 11\n",
    "    else:\n",
    "        n = num_samples\n",
    "        \n",
    "    for k in range(2, n):\n",
    "        kmedoids = KMedoids(n_clusters=k, random_state=42, init='random')\n",
    "        kmedoids.fit(rfm_scaled)\n",
    "        labels = kmedoids.labels_\n",
    "        if len(set(labels)) >= 2:\n",
    "            score.append(silhouette_score(rfm_scaled, labels))\n",
    "        else:\n",
    "            score.append(-1)\n",
    "            break\n",
    "            \n",
    "    if (len(score) == 1) and (num_samples != 3):\n",
    "        best_k = 1\n",
    "    else:\n",
    "        best_k = np.argmax(score) + 2\n",
    "    # Print out the best k value\n",
    "    print(f\"Merchant {account} optimal k value is: {best_k}\")\n",
    "    \n",
    "    best_k_list.append(best_k)"
   ]
  },
  {
   "cell_type": "code",
   "execution_count": 11,
   "metadata": {},
   "outputs": [
    {
     "data": {
      "text/plain": [
       "Counter({2: 26, 3: 19, 5: 2, 4: 3, 1: 3, 10: 1})"
      ]
     },
     "execution_count": 11,
     "metadata": {},
     "output_type": "execute_result"
    }
   ],
   "source": [
    "# count the quantity of best_k\n",
    "from collections import Counter\n",
    "counter = Counter(best_k_list)\n",
    "counter"
   ]
  },
  {
   "cell_type": "code",
   "execution_count": 12,
   "metadata": {},
   "outputs": [
    {
     "data": {
      "text/plain": [
       "2.6666666666666665"
      ]
     },
     "execution_count": 12,
     "metadata": {},
     "output_type": "execute_result"
    }
   ],
   "source": [
    "np.mean(best_k_list)"
   ]
  },
  {
   "cell_type": "code",
   "execution_count": 15,
   "metadata": {},
   "outputs": [
    {
     "name": "stderr",
     "output_type": "stream",
     "text": [
      "D:\\anaconda3\\Lib\\site-packages\\sklearn_extra\\cluster\\_k_medoids.py:329: UserWarning: Cluster 1 is empty! self.labels_[self.medoid_indices_[1]] may not be labeled with its corresponding cluster (1).\n",
      "  warnings.warn(\n",
      "D:\\anaconda3\\Lib\\site-packages\\sklearn_extra\\cluster\\_k_medoids.py:329: UserWarning: Cluster 1 is empty! self.labels_[self.medoid_indices_[1]] may not be labeled with its corresponding cluster (1).\n",
      "  warnings.warn(\n",
      "D:\\anaconda3\\Lib\\site-packages\\sklearn_extra\\cluster\\_k_medoids.py:329: UserWarning: Cluster 2 is empty! self.labels_[self.medoid_indices_[2]] may not be labeled with its corresponding cluster (2).\n",
      "  warnings.warn(\n",
      "D:\\anaconda3\\Lib\\site-packages\\sklearn_extra\\cluster\\_k_medoids.py:329: UserWarning: Cluster 1 is empty! self.labels_[self.medoid_indices_[1]] may not be labeled with its corresponding cluster (1).\n",
      "  warnings.warn(\n",
      "D:\\anaconda3\\Lib\\site-packages\\sklearn_extra\\cluster\\_k_medoids.py:329: UserWarning: Cluster 2 is empty! self.labels_[self.medoid_indices_[2]] may not be labeled with its corresponding cluster (2).\n",
      "  warnings.warn(\n"
     ]
    }
   ],
   "source": [
    "# get all rfm customer groups\n",
    "rfm_labels_df = pd.DataFrame()\n",
    "\n",
    "for third_party_name in rfm['Third Party Name'].unique():\n",
    "    \n",
    "    account_rfm = rfm[rfm['Third Party Name'] == third_party_name]\n",
    "    scaler = StandardScaler()\n",
    "    rfm_scaled = scaler.fit_transform(account_rfm[['recency', 'frequency', 'monetary']])\n",
    "    \n",
    "    kmedoids = KMedoids(n_clusters=3, random_state=42, init='random')\n",
    "    kmedoids.fit(rfm_scaled)\n",
    "    centers = np.array(kmedoids.cluster_centers_)\n",
    "    clusters = kmedoids.labels_\n",
    "    \n",
    "    unique_clusters = np.unique(clusters)\n",
    "    if len(unique_clusters) == 3:\n",
    "        # find the cluter which has highest monetry and take it as High-Value customers\n",
    "        a = np.argmax(centers[:, 2])\n",
    "        unique_clusters = np.delete(unique_clusters, a)\n",
    "        \n",
    "        # recongize the remaining labels to define the Developing customers and Low-Value customers \n",
    "        if centers[unique_clusters[1], 0] <= centers[unique_clusters[0], 0]:\n",
    "            if centers[unique_clusters[0], 0] == centers[unique_clusters[1], 0]:\n",
    "                index = int(centers[unique_clusters[1], 2] > centers[unique_clusters[0], 2])\n",
    "                b = unique_clusters[index]\n",
    "            else:\n",
    "                index = 1\n",
    "                b = unique_clusters[index]\n",
    "        else: \n",
    "            index = 0\n",
    "            b = unique_clusters[index]\n",
    "                            \n",
    "        unique_clusters = np.delete(unique_clusters, index)\n",
    "        c = unique_clusters[0]\n",
    "        cluster_labels = {a: 'High-Value Customers', b: 'Developing Customers', c: 'Low-Value/Risky Customers'}\n",
    "    \n",
    "    # Some data only contain two labels\n",
    "    elif len(unique_clusters) == 2:\n",
    "        a = np.argmax(centers[:, 2])\n",
    "        unique_clusters = np.delete(unique_clusters, a)\n",
    "        b = unique_clusters[0]\n",
    "        cluster_labels = {a: 'High-Value Customers', c: 'Developing Customers'}\n",
    "        \n",
    "     # Some data only contain a label\n",
    "    elif len(unique_clusters) == 1:\n",
    "        a = unique_clusters[0]\n",
    "        cluster_labels = {a: 'Developing Customers'}\n",
    "    \n",
    "    account_rfm_copy = account_rfm.copy()\n",
    "    account_rfm_copy['cluster'] = clusters\n",
    "    account_rfm_copy['cluster_label'] = account_rfm_copy['cluster'].map(cluster_labels) \n",
    "    rfm_labels_df = pd.concat([rfm_labels_df, account_rfm_copy], axis=0, ignore_index=True)       "
   ]
  },
  {
   "cell_type": "code",
   "execution_count": 16,
   "metadata": {},
   "outputs": [
    {
     "data": {
      "text/html": [
       "<div>\n",
       "<style scoped>\n",
       "    .dataframe tbody tr th:only-of-type {\n",
       "        vertical-align: middle;\n",
       "    }\n",
       "\n",
       "    .dataframe tbody tr th {\n",
       "        vertical-align: top;\n",
       "    }\n",
       "\n",
       "    .dataframe thead th {\n",
       "        text-align: right;\n",
       "    }\n",
       "</style>\n",
       "<table border=\"1\" class=\"dataframe\">\n",
       "  <thead>\n",
       "    <tr style=\"text-align: right;\">\n",
       "      <th></th>\n",
       "      <th>Third Party Name</th>\n",
       "      <th>Account No</th>\n",
       "      <th>recency</th>\n",
       "      <th>frequency</th>\n",
       "      <th>monetary</th>\n",
       "      <th>cluster</th>\n",
       "      <th>cluster_label</th>\n",
       "    </tr>\n",
       "  </thead>\n",
       "  <tbody>\n",
       "    <tr>\n",
       "      <th>0</th>\n",
       "      <td>a yarn story</td>\n",
       "      <td>128033695.0</td>\n",
       "      <td>16</td>\n",
       "      <td>15</td>\n",
       "      <td>292.60</td>\n",
       "      <td>2</td>\n",
       "      <td>Developing Customers</td>\n",
       "    </tr>\n",
       "    <tr>\n",
       "      <th>1</th>\n",
       "      <td>a yarn story</td>\n",
       "      <td>138969884.0</td>\n",
       "      <td>158</td>\n",
       "      <td>1</td>\n",
       "      <td>47.84</td>\n",
       "      <td>2</td>\n",
       "      <td>Developing Customers</td>\n",
       "    </tr>\n",
       "    <tr>\n",
       "      <th>2</th>\n",
       "      <td>a yarn story</td>\n",
       "      <td>221868392.0</td>\n",
       "      <td>319</td>\n",
       "      <td>1</td>\n",
       "      <td>2.99</td>\n",
       "      <td>0</td>\n",
       "      <td>Low-Value/Risky Customers</td>\n",
       "    </tr>\n",
       "    <tr>\n",
       "      <th>3</th>\n",
       "      <td>a yarn story</td>\n",
       "      <td>228136274.0</td>\n",
       "      <td>281</td>\n",
       "      <td>1</td>\n",
       "      <td>33.00</td>\n",
       "      <td>0</td>\n",
       "      <td>Low-Value/Risky Customers</td>\n",
       "    </tr>\n",
       "    <tr>\n",
       "      <th>4</th>\n",
       "      <td>a yarn story</td>\n",
       "      <td>235881534.0</td>\n",
       "      <td>319</td>\n",
       "      <td>1</td>\n",
       "      <td>134.85</td>\n",
       "      <td>0</td>\n",
       "      <td>Low-Value/Risky Customers</td>\n",
       "    </tr>\n",
       "  </tbody>\n",
       "</table>\n",
       "</div>"
      ],
      "text/plain": [
       "  Third Party Name   Account No  recency  frequency  monetary  cluster  \\\n",
       "0     a yarn story  128033695.0       16         15    292.60        2   \n",
       "1     a yarn story  138969884.0      158          1     47.84        2   \n",
       "2     a yarn story  221868392.0      319          1      2.99        0   \n",
       "3     a yarn story  228136274.0      281          1     33.00        0   \n",
       "4     a yarn story  235881534.0      319          1    134.85        0   \n",
       "\n",
       "               cluster_label  \n",
       "0       Developing Customers  \n",
       "1       Developing Customers  \n",
       "2  Low-Value/Risky Customers  \n",
       "3  Low-Value/Risky Customers  \n",
       "4  Low-Value/Risky Customers  "
      ]
     },
     "execution_count": 16,
     "metadata": {},
     "output_type": "execute_result"
    }
   ],
   "source": [
    "rfm_labels_df.head()"
   ]
  },
  {
   "cell_type": "code",
   "execution_count": 17,
   "metadata": {},
   "outputs": [],
   "source": [
    "rfm_labels_df.to_csv('new_data_rfm_with_KMedoids_customer_groups.csv', index=False)"
   ]
  },
  {
   "cell_type": "code",
   "execution_count": 1,
   "metadata": {},
   "outputs": [
    {
     "ename": "NameError",
     "evalue": "name 'rfm' is not defined",
     "output_type": "error",
     "traceback": [
      "\u001b[1;31m---------------------------------------------------------------------------\u001b[0m",
      "\u001b[1;31mNameError\u001b[0m                                 Traceback (most recent call last)",
      "Cell \u001b[1;32mIn[1], line 3\u001b[0m\n\u001b[0;32m      1\u001b[0m \u001b[38;5;28;01mfrom\u001b[39;00m \u001b[38;5;21;01msklearn_extra\u001b[39;00m\u001b[38;5;21;01m.\u001b[39;00m\u001b[38;5;21;01mcluster\u001b[39;00m \u001b[38;5;28;01mimport\u001b[39;00m KMedoids\n\u001b[0;32m      2\u001b[0m \u001b[38;5;28;01mfrom\u001b[39;00m \u001b[38;5;21;01mmatplotlib\u001b[39;00m\u001b[38;5;21;01m.\u001b[39;00m\u001b[38;5;21;01mlines\u001b[39;00m \u001b[38;5;28;01mimport\u001b[39;00m Line2D\n\u001b[1;32m----> 3\u001b[0m account_rfm \u001b[38;5;241m=\u001b[39m rfm[rfm[\u001b[38;5;124m'\u001b[39m\u001b[38;5;124mThird Party Name\u001b[39m\u001b[38;5;124m'\u001b[39m] \u001b[38;5;241m==\u001b[39m rfm[\u001b[38;5;124m'\u001b[39m\u001b[38;5;124mThird Party Name\u001b[39m\u001b[38;5;124m'\u001b[39m]\u001b[38;5;241m.\u001b[39munique()[\u001b[38;5;241m1\u001b[39m]]\n\u001b[0;32m      5\u001b[0m scaler \u001b[38;5;241m=\u001b[39m StandardScaler()\n\u001b[0;32m      6\u001b[0m rfm_scaled \u001b[38;5;241m=\u001b[39m scaler\u001b[38;5;241m.\u001b[39mfit_transform(account_rfm[[\u001b[38;5;124m'\u001b[39m\u001b[38;5;124mrecency\u001b[39m\u001b[38;5;124m'\u001b[39m, \u001b[38;5;124m'\u001b[39m\u001b[38;5;124mfrequency\u001b[39m\u001b[38;5;124m'\u001b[39m, \u001b[38;5;124m'\u001b[39m\u001b[38;5;124mmonetary\u001b[39m\u001b[38;5;124m'\u001b[39m]])\n",
      "\u001b[1;31mNameError\u001b[0m: name 'rfm' is not defined"
     ]
    }
   ],
   "source": [
    "from sklearn_extra.cluster import KMedoids\n",
    "from matplotlib.lines import Line2D\n",
    "account_rfm = rfm[rfm['Third Party Name'] == rfm['Third Party Name'].unique()[1]]\n",
    "\n",
    "scaler = StandardScaler()\n",
    "rfm_scaled = scaler.fit_transform(account_rfm[['recency', 'frequency', 'monetary']])\n",
    "rfm_original = scaler.inverse_transform(rfm_scaled)\n",
    "    \n",
    "kmedoids = KMedoids(n_clusters=3, random_state=42, init='random')\n",
    "kmedoids.fit(rfm_scaled)\n",
    "clusters = kmedoids.labels_\n",
    " \n",
    "set_colors = ['red', 'green', 'blue']\n",
    "set_labels = ['High-Value Customers', 'Developing Customers', 'Low-Value/Risky Customers']    \n",
    "    \n",
    "colors = [set_colors[label] for label in clusters]\n",
    "    \n",
    "#Create a new graph and a 3D subgraph\n",
    "fig = plt.figure(figsize=(8, 6))\n",
    "ax = fig.add_subplot(111, projection='3d')\n",
    "\n",
    "\n",
    "#Assign data points to three-dimensional space\n",
    "xs = rfm_original[:, 0]  # Recency\n",
    "ys = rfm_original[:, 1]  # Frequency\n",
    "zs = rfm_original[:, 2]  # Monetary\n",
    "\n",
    "\n",
    "#Create a 3D scatter plot with colors defined by clustering labels\n",
    "scatter = ax.scatter(xs, ys, zs, c=colors, marker='o', alpha=0.6, edgecolors='w')\n",
    "\n",
    "\n",
    " #Set chart titles and axis labels\n",
    "ax.set_title('Amazon with RFM and K-medoids')\n",
    "ax.set_xlabel('Recency')\n",
    "ax.set_ylabel('Frequency')\n",
    "ax.set_zlabel('Monetary', labelpad=1)\n",
    "\n",
    "legend_elements = [Line2D([0], [0], marker='o', color='w', label=label,\n",
    "                         markerfacecolor=color, markersize=5) for color, label in zip(set_colors, set_labels)]\n",
    "ax.legend(handles=legend_elements, loc='best')\n",
    "\n",
    "plt.show()"
   ]
  },
  {
   "cell_type": "code",
   "execution_count": null,
   "metadata": {},
   "outputs": [],
   "source": []
  }
 ],
 "metadata": {
  "kernelspec": {
   "display_name": "Python 3 (ipykernel)",
   "language": "python",
   "name": "python3"
  },
  "language_info": {
   "codemirror_mode": {
    "name": "ipython",
    "version": 3
   },
   "file_extension": ".py",
   "mimetype": "text/x-python",
   "name": "python",
   "nbconvert_exporter": "python",
   "pygments_lexer": "ipython3",
   "version": "3.11.4"
  }
 },
 "nbformat": 4,
 "nbformat_minor": 4
}
