{
 "cells": [
  {
   "cell_type": "code",
   "execution_count": 5,
   "id": "6da03c89",
   "metadata": {},
   "outputs": [],
   "source": [
    "import pandas as pd\n",
    "import matplotlib.pyplot as plt\n",
    "import seaborn as sns"
   ]
  },
  {
   "cell_type": "code",
   "execution_count": 2,
   "id": "0cecef6f",
   "metadata": {},
   "outputs": [],
   "source": [
    "df = pd.read_csv('fake_transactional_data_24.csv')"
   ]
  },
  {
   "cell_type": "code",
   "execution_count": 10,
   "id": "1ec5c137",
   "metadata": {},
   "outputs": [],
   "source": [
    "df['not_happened_yet_date'] = pd.to_datetime(df['not_happened_yet_date'], format='%d/%m/%Y')\n",
    "df['month'] = df['not_happened_yet_date'].dt.month\n",
    "monthly_spending = df.groupby(['from_totally_fake_account', 'month'])['monopoly_money_amount'].sum().reset_index()\n",
    "monthly_spending.rename(columns={'monopoly_money_amount': 'monthly_spent'}, inplace=True)\n",
    "monthly_spending.rename(columns={'from_totally_fake_account': 'account'}, inplace=True)\n",
    "\n",
    "sorted_df = df[df['to_randomly_generated_account'].str.isnumeric()]\n",
    "monthly_income = sorted_df.groupby(['to_randomly_generated_account', 'month'])['monopoly_money_amount'].sum().reset_index()\n",
    "monthly_income.rename(columns={'monopoly_money_amount': 'monthly_income'}, inplace=True)\n",
    "monthly_income.rename(columns={'to_randomly_generated_account': 'account'}, inplace=True)\n",
    "monthly_income['account'] = monthly_income['account'].astype(float)"
   ]
  },
  {
   "cell_type": "code",
   "execution_count": 30,
   "id": "5b07cfbd",
   "metadata": {},
   "outputs": [],
   "source": [
    "economic_conditions = pd.merge(monthly_spending, monthly_income, how='outer')\n",
    "economic_conditions = economic_conditions.fillna(0)"
   ]
  },
  {
   "cell_type": "code",
   "execution_count": 31,
   "id": "851a2d0c",
   "metadata": {},
   "outputs": [
    {
     "data": {
      "text/html": [
       "<div>\n",
       "<style scoped>\n",
       "    .dataframe tbody tr th:only-of-type {\n",
       "        vertical-align: middle;\n",
       "    }\n",
       "\n",
       "    .dataframe tbody tr th {\n",
       "        vertical-align: top;\n",
       "    }\n",
       "\n",
       "    .dataframe thead th {\n",
       "        text-align: right;\n",
       "    }\n",
       "</style>\n",
       "<table border=\"1\" class=\"dataframe\">\n",
       "  <thead>\n",
       "    <tr style=\"text-align: right;\">\n",
       "      <th></th>\n",
       "      <th>account</th>\n",
       "      <th>month</th>\n",
       "      <th>monthly_spent</th>\n",
       "      <th>monthly_income</th>\n",
       "    </tr>\n",
       "  </thead>\n",
       "  <tbody>\n",
       "    <tr>\n",
       "      <th>170408</th>\n",
       "      <td>99965.0</td>\n",
       "      <td>3</td>\n",
       "      <td>0.0</td>\n",
       "      <td>786.70</td>\n",
       "    </tr>\n",
       "    <tr>\n",
       "      <th>170409</th>\n",
       "      <td>99965.0</td>\n",
       "      <td>4</td>\n",
       "      <td>0.0</td>\n",
       "      <td>736.00</td>\n",
       "    </tr>\n",
       "    <tr>\n",
       "      <th>170410</th>\n",
       "      <td>99965.0</td>\n",
       "      <td>5</td>\n",
       "      <td>0.0</td>\n",
       "      <td>767.00</td>\n",
       "    </tr>\n",
       "    <tr>\n",
       "      <th>170411</th>\n",
       "      <td>99965.0</td>\n",
       "      <td>6</td>\n",
       "      <td>0.0</td>\n",
       "      <td>821.50</td>\n",
       "    </tr>\n",
       "    <tr>\n",
       "      <th>170412</th>\n",
       "      <td>99965.0</td>\n",
       "      <td>7</td>\n",
       "      <td>0.0</td>\n",
       "      <td>813.40</td>\n",
       "    </tr>\n",
       "    <tr>\n",
       "      <th>170413</th>\n",
       "      <td>99965.0</td>\n",
       "      <td>8</td>\n",
       "      <td>0.0</td>\n",
       "      <td>783.65</td>\n",
       "    </tr>\n",
       "    <tr>\n",
       "      <th>170414</th>\n",
       "      <td>99965.0</td>\n",
       "      <td>9</td>\n",
       "      <td>0.0</td>\n",
       "      <td>815.50</td>\n",
       "    </tr>\n",
       "    <tr>\n",
       "      <th>170415</th>\n",
       "      <td>99965.0</td>\n",
       "      <td>10</td>\n",
       "      <td>0.0</td>\n",
       "      <td>772.00</td>\n",
       "    </tr>\n",
       "    <tr>\n",
       "      <th>170416</th>\n",
       "      <td>99965.0</td>\n",
       "      <td>11</td>\n",
       "      <td>0.0</td>\n",
       "      <td>713.50</td>\n",
       "    </tr>\n",
       "    <tr>\n",
       "      <th>170417</th>\n",
       "      <td>99965.0</td>\n",
       "      <td>12</td>\n",
       "      <td>0.0</td>\n",
       "      <td>770.50</td>\n",
       "    </tr>\n",
       "  </tbody>\n",
       "</table>\n",
       "</div>"
      ],
      "text/plain": [
       "        account  month  monthly_spent  monthly_income\n",
       "170408  99965.0      3            0.0          786.70\n",
       "170409  99965.0      4            0.0          736.00\n",
       "170410  99965.0      5            0.0          767.00\n",
       "170411  99965.0      6            0.0          821.50\n",
       "170412  99965.0      7            0.0          813.40\n",
       "170413  99965.0      8            0.0          783.65\n",
       "170414  99965.0      9            0.0          815.50\n",
       "170415  99965.0     10            0.0          772.00\n",
       "170416  99965.0     11            0.0          713.50\n",
       "170417  99965.0     12            0.0          770.50"
      ]
     },
     "execution_count": 31,
     "metadata": {},
     "output_type": "execute_result"
    }
   ],
   "source": [
    "economic_conditions.tail(10)"
   ]
  },
  {
   "cell_type": "code",
   "execution_count": 32,
   "id": "18998eda",
   "metadata": {},
   "outputs": [],
   "source": [
    "economic_conditions.to_csv(\"retail_customers_economic_conditions_data.csv\", index=False)"
   ]
  },
  {
   "cell_type": "code",
   "execution_count": 3,
   "id": "6156dd4c",
   "metadata": {},
   "outputs": [],
   "source": [
    "df = pd.read_csv('monthly_expenses.csv')"
   ]
  },
  {
   "cell_type": "code",
   "execution_count": 15,
   "id": "7ecca91e",
   "metadata": {},
   "outputs": [
    {
     "data": {
      "text/plain": [
       "array([  1000,   1002,   1006, ..., 100947, 100986, 100988], dtype=int64)"
      ]
     },
     "execution_count": 15,
     "metadata": {},
     "output_type": "execute_result"
    }
   ],
   "source": [
    "df['from_totally_fake_account'].unique()"
   ]
  },
  {
   "cell_type": "code",
   "execution_count": 19,
   "id": "5e4d53ba",
   "metadata": {},
   "outputs": [
    {
     "data": {
      "image/png": "[encoded data removed]",
      "text/plain": [
       "<Figure size 640x480 with 1 Axes>"
      ]
     },
     "metadata": {},
     "output_type": "display_data"
    }
   ],
   "source": [
    "sns.barplot(data=df[df['from_totally_fake_account'] == 100986], x='month', y='total_monthly_spent')\n",
    "plt.title('Monthly Expenses')\n",
    "plt.show()"
   ]
  },
  {
   "cell_type": "code",
   "execution_count": 41,
   "id": "a993fb0e",
   "metadata": {},
   "outputs": [],
   "source": [
    "def month_for_max_spending(data):\n",
    "    a = data.loc[data['total_monthly_spent'].idxmax(), ['month', 'total_monthly_spent']]\n",
    "    return a\n",
    "\n",
    "max_month_df = df.groupby('from_totally_fake_account',group_keys=False).apply(month_for_max_spending).reset_index(drop=True)\n",
    "max_month_df.rename(columns={'month': 'max_spent_month', 'total_monthly_spent': 'max_spent'}, inplace=True)\n",
    "max_month_df['max_spent_month'] = max_month_df['max_spent_month'].astype(int)"
   ]
  },
  {
   "cell_type": "code",
   "execution_count": 52,
   "id": "39fbac1e",
   "metadata": {},
   "outputs": [
    {
     "data": {
      "image/png": "[encoded data removed]",
      "text/plain": [
       "<Figure size 640x480 with 1 Axes>"
      ]
     },
     "metadata": {},
     "output_type": "display_data"
    }
   ],
   "source": [
    "sns.countplot(data=max_month_df, x='max_spent_month')\n",
    "plt.xlabel('month')\n",
    "plt.title('Number of Accounts by Months with Highest Spending')\n",
    "plt.show()"
   ]
  },
  {
   "cell_type": "code",
   "execution_count": 53,
   "id": "e0667017",
   "metadata": {},
   "outputs": [],
   "source": [
    "df = pd.read_csv('fake_transactional_data_24.csv')"
   ]
  },
  {
   "cell_type": "code",
   "execution_count": 56,
   "id": "f98e96bb",
   "metadata": {},
   "outputs": [],
   "source": [
    "a=df.loc[:100]"
   ]
  },
  {
   "cell_type": "code",
   "execution_count": 58,
   "id": "13c48764",
   "metadata": {},
   "outputs": [],
   "source": [
    "a.to_csv(\"a.csv\", index=False)"
   ]
  },
  {
   "cell_type": "code",
   "execution_count": null,
   "id": "3ffaea40",
   "metadata": {},
   "outputs": [],
   "source": []
  }
 ],
 "metadata": {
  "kernelspec": {
   "display_name": "Python 3 (ipykernel)",
   "language": "python",
   "name": "python3"
  },
  "language_info": {
   "codemirror_mode": {
    "name": "ipython",
    "version": 3
   },
   "file_extension": ".py",
   "mimetype": "text/x-python",
   "name": "python",
   "nbconvert_exporter": "python",
   "pygments_lexer": "ipython3",
   "version": "3.11.4"
  }
 },
 "nbformat": 4,
 "nbformat_minor": 5
}
