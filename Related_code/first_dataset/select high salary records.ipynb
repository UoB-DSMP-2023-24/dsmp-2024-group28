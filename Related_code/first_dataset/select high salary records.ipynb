{
 "cells": [
  {
   "cell_type": "code",
   "execution_count": 44,
   "id": "3057939f",
   "metadata": {},
   "outputs": [
    {
     "name": "stdout",
     "output_type": "stream",
     "text": [
      "          Unnamed: 0 from_totally_fake_account  monopoly_money_amount  \\\n",
      "7                  7                      1000                    5.5   \n",
      "13                13                      1000                    5.5   \n",
      "14                14                      1000                    5.5   \n",
      "20                20                      1000                    5.5   \n",
      "22                22                      1000                    5.0   \n",
      "...              ...                       ...                    ...   \n",
      "10148263    10148263                    100988                    4.5   \n",
      "10148264    10148264                    100988                    4.5   \n",
      "10148268    10148268                    100988                    6.0   \n",
      "10148271    10148271                    100988                    6.0   \n",
      "10148273    10148273                    100988                    6.5   \n",
      "\n",
      "         to_randomly_generated_account not_happened_yet_date  \n",
      "7                                 5403            2025-01-02  \n",
      "13                               41718            2025-01-03  \n",
      "14                               41718            2025-01-03  \n",
      "20                               41718            2025-01-03  \n",
      "22                               51051            2025-01-03  \n",
      "...                                ...                   ...  \n",
      "10148263                         83562            2025-12-27  \n",
      "10148264                         83562            2025-12-27  \n",
      "10148268                         32221            2025-12-28  \n",
      "10148271                         32221            2025-12-28  \n",
      "10148273                         12542            2025-12-28  \n",
      "\n",
      "[2532763 rows x 5 columns]\n"
     ]
    }
   ],
   "source": [
    "import pandas as pd\n",
    "\n",
    "#read the data file\n",
    "df = pd.read_csv('/Users/yutianhuan/Documents/Jupyter_workspace/mini-project/dsmp-2024-group28/processed_data/data_sorted_users_and_date.csv')\n",
    "df['from_totally_fake_account'] = df['from_totally_fake_account'].astype(int)\n",
    "df['from_totally_fake_account'] = df['from_totally_fake_account'].astype(str)\n",
    "\n",
    "#select the private transfer records\n",
    "private = df[df['to_randomly_generated_account'].str.isdigit()]\n",
    "print(private)"
   ]
  },
  {
   "cell_type": "code",
   "execution_count": 45,
   "id": "12fc9494",
   "metadata": {},
   "outputs": [
    {
     "name": "stdout",
     "output_type": "stream",
     "text": [
      "Unnamed: 0                         int64\n",
      "from_totally_fake_account         object\n",
      "monopoly_money_amount            float64\n",
      "to_randomly_generated_account     object\n",
      "not_happened_yet_date             object\n",
      "dtype: object\n"
     ]
    }
   ],
   "source": [
    "print(df.dtypes)"
   ]
  },
  {
   "cell_type": "code",
   "execution_count": 46,
   "id": "7e4626c6",
   "metadata": {},
   "outputs": [
    {
     "name": "stdout",
     "output_type": "stream",
     "text": [
      "32.08716016461073\n",
      "     from_totally_fake_account\n",
      "0                        10000\n",
      "1                       100002\n",
      "2                       100098\n",
      "3                       100120\n",
      "4                       100159\n",
      "...                        ...\n",
      "2147                     99790\n",
      "2148                     99799\n",
      "2149                      9983\n",
      "2150                     99868\n",
      "2151                     99949\n",
      "\n",
      "[2152 rows x 1 columns]\n",
      "     to_randomly_generated_account\n",
      "0                             1000\n",
      "1                           100053\n",
      "2                           100166\n",
      "3                           100175\n",
      "4                           100223\n",
      "...                            ...\n",
      "1802                         99851\n",
      "1803                         99869\n",
      "1804                         99891\n",
      "1805                         99904\n",
      "1806                         99965\n",
      "\n",
      "[1807 rows x 1 columns]\n"
     ]
    }
   ],
   "source": [
    "#select large transfers\n",
    "money_mean = private['monopoly_money_amount'].mean()\n",
    "print(money_mean)\n",
    "large_private = private[private['monopoly_money_amount'] > money_mean]\n",
    "\n",
    "\n",
    "\n",
    "#Calculation of the number of payments\n",
    "payment_count_mean = large_private.groupby('from_totally_fake_account').size().mean()\n",
    "#Filter out records with a number of payments greater than the mean\n",
    "payment_accounts_above_mean = large_private.groupby('from_totally_fake_account').size()[large_private.groupby('from_totally_fake_account').size() > payment_count_mean].index.tolist()\n",
    "#select the records from the dataframe\n",
    "result = large_private[large_private['from_totally_fake_account'].isin(payment_accounts_above_mean)]\n",
    "#select the accounts\n",
    "payment_accounts = result.groupby('from_totally_fake_account').first().reset_index()[['from_totally_fake_account']]\n",
    "print(payment_accounts)\n",
    "\n",
    "\n",
    "#Calculation of the number of reciepts\n",
    "reciept_count_mean = large_private.groupby('to_randomly_generated_account').size().mean()\n",
    "#Filter out records with a number of reciepts greater than the mean\n",
    "reciept_accounts_above_mean = large_private.groupby('to_randomly_generated_account').size()[large_private.groupby('to_randomly_generated_account').size() > reciept_count_mean].index.tolist()\n",
    "#select the records from the dataframe\n",
    "result = large_private[large_private['to_randomly_generated_account'].isin(reciept_accounts_above_mean)]\n",
    "#select the accounts\n",
    "reciept_accounts = result.groupby('to_randomly_generated_account').first().reset_index()[['to_randomly_generated_account']]\n",
    "print(reciept_accounts)\n"
   ]
  },
  {
   "cell_type": "code",
   "execution_count": 54,
   "id": "7c4cd2a4",
   "metadata": {},
   "outputs": [
    {
     "name": "stdout",
     "output_type": "stream",
     "text": [
      "         from_totally_fake_account  monopoly_money_amount  \\\n",
      "1711                          1002                   7.00   \n",
      "1712                          1002                   8.99   \n",
      "1713                          1002                   2.25   \n",
      "1714                          1002                  13.50   \n",
      "1716                          1002                   8.99   \n",
      "...                            ...                    ...   \n",
      "10145890                    100947                   2.45   \n",
      "10145891                    100947                   2.15   \n",
      "10145892                    100947                   9.00   \n",
      "10145893                    100947                   5.00   \n",
      "10145894                    100947                   5.00   \n",
      "\n",
      "         to_randomly_generated_account not_happened_yet_date  \n",
      "1711                          DVD_SHOP            2025-01-01  \n",
      "1712                 STREAMING_SERVICE            2025-01-01  \n",
      "1713                            A_CAFE            2025-01-01  \n",
      "1714                               PUB            2025-01-02  \n",
      "1716                 STREAMING_SERVICE            2025-01-02  \n",
      "...                                ...                   ...  \n",
      "10145890    TOTALLY_A_REAL_COFFEE_SHOP            2025-12-31  \n",
      "10145891                        A_CAFE            2025-12-31  \n",
      "10145892           LOCAL_WATERING_HOLE            2025-12-31  \n",
      "10145893                      DVD_SHOP            2025-12-31  \n",
      "10145894                    KEBAB_SHOP            2025-12-31  \n",
      "\n",
      "[2006804 rows x 4 columns]\n",
      "         from_totally_fake_account  monopoly_money_amount  \\\n",
      "0                             1000                   8.99   \n",
      "1                             1000                   2.40   \n",
      "2                             1000                   2.55   \n",
      "3                             1000                   2.20   \n",
      "4                             1000                  13.06   \n",
      "...                            ...                    ...   \n",
      "10140374                    100925                  45.71   \n",
      "10140375                    100925                  14.00   \n",
      "10140376                    100925                  12.00   \n",
      "10140378                    100925                  11.00   \n",
      "10140381                    100925                   5.00   \n",
      "\n",
      "         to_randomly_generated_account not_happened_yet_date  \n",
      "0                    STREAMING_SERVICE            2025-01-01  \n",
      "1                  GOURMET_COFFEE_SHOP            2025-01-01  \n",
      "2                  GOURMET_COFFEE_SHOP            2025-01-01  \n",
      "3                  A_LOCAL_COFFEE_SHOP            2025-01-01  \n",
      "4                            LOCAL_PUB            2025-01-01  \n",
      "...                                ...                   ...  \n",
      "10140374                TAKEAWAY_CURRY            2025-12-26  \n",
      "10140375           LOCAL_WATERING_HOLE            2025-12-26  \n",
      "10140376           LOCAL_WATERING_HOLE            2025-12-27  \n",
      "10140378           LOCAL_WATERING_HOLE            2025-12-27  \n",
      "10140381                           PUB            2025-12-28  \n",
      "\n",
      "[1018597 rows x 4 columns]\n"
     ]
    }
   ],
   "source": [
    "#Select transfers to commercial accounts\n",
    "public = df[~df['to_randomly_generated_account'].str.contains(r'\\d')]\n",
    "\n",
    "high_payment_records = public[public['from_totally_fake_account'].isin(payment_accounts.squeeze().tolist())]\n",
    "print(high_payment_records)\n",
    "file_path1 = '/Users/yutianhuan/Documents/Jupyter_workspace/mini-project/dsmp-2024-group28/processed_data/high_payment_records.csv'\n",
    "high_payment_records.to_csv(file_path1, index=False, header=True)\n",
    "\n",
    "high_reciept_records = public[public['from_totally_fake_account'].isin(reciept_accounts.squeeze().tolist())]\n",
    "print(high_reciept_records)\n",
    "file_path2 = '/Users/yutianhuan/Documents/Jupyter_workspace/mini-project/dsmp-2024-group28/processed_data/high_reciept_records.csv'\n",
    "high_reciept_records.to_csv(file_path2, index=False, header=True)"
   ]
  },
  {
   "cell_type": "code",
   "execution_count": null,
   "id": "3a4bf047",
   "metadata": {},
   "outputs": [],
   "source": []
  },
  {
   "cell_type": "code",
   "execution_count": null,
   "id": "730a3b33",
   "metadata": {},
   "outputs": [],
   "source": []
  }
 ],
 "metadata": {
  "kernelspec": {
   "display_name": "Python 3 (ipykernel)",
   "language": "python",
   "name": "python3"
  },
  "language_info": {
   "codemirror_mode": {
    "name": "ipython",
    "version": 3
   },
   "file_extension": ".py",
   "mimetype": "text/x-python",
   "name": "python",
   "nbconvert_exporter": "python",
   "pygments_lexer": "ipython3",
   "version": "3.11.4"
  }
 },
 "nbformat": 4,
 "nbformat_minor": 5
}
